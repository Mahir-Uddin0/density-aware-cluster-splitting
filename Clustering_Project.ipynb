{
 "cells": [
  {
   "cell_type": "code",
   "execution_count": null,
   "metadata": {
    "id": "7sLSDmVfKm4Y"
   },
   "outputs": [],
   "source": [
    "import numpy as np\n",
    "import pandas as pd\n",
    "from sklearn.base import BaseEstimator, ClusterMixin\n",
    "from sklearn.metrics.pairwise import euclidean_distances"
   ]
  },
  {
   "cell_type": "code",
   "execution_count": null,
   "metadata": {
    "id": "G7-v7IxNKyfn"
   },
   "outputs": [],
   "source": [
    "class KMeans(BaseEstimator, ClusterMixin):\n",
    "    def __init__(self, n_clusters=8, max_iter=300, tol=1e-4, random_state=None):\n",
    "        self.n_clusters = n_clusters\n",
    "        self.max_iter = max_iter\n",
    "        self.tol = tol\n",
    "        self.random_state = random_state\n",
    "\n",
    "    def fit(self, X):\n",
    "        random_state = check_random_state(self.random_state)\n",
    "        n_samples, n_features = X.shape\n",
    "\n",
    "        # Initialize cluster centers randomly\n",
    "        self.cluster_centers_ = X[random_state.choice(n_samples, self.n_clusters, replace=False)]\n",
    "\n",
    "        for i in range(self.max_iter):\n",
    "            # Assign labels based on closest center\n",
    "            labels = self._assign_labels(X)\n",
    "\n",
    "            # Compute new centers as the mean of the points in each cluster\n",
    "            new_centers = np.array([X[labels == j].mean(axis=0) for j in range(self.n_clusters)])\n",
    "\n",
    "            # Check for convergence\n",
    "            if np.linalg.norm(new_centers - self.cluster_centers_) < self.tol:\n",
    "                break\n",
    "\n",
    "            self.cluster_centers_ = new_centers\n",
    "\n",
    "        self.labels_ = labels\n",
    "        return self\n",
    "\n",
    "    def _assign_labels(self, X):\n",
    "        # Calculate distances from points to cluster centers\n",
    "        distances = euclidean_distances(X, self.cluster_centers_)\n",
    "        # Assign each point to the nearest cluster center\n",
    "        return np.argmin(distances, axis=1)\n",
    "\n",
    "    def fit_predict(self, X):\n",
    "        # Fit the model and return cluster labels for the dataset\n",
    "        self.fit(X)\n",
    "        return self.labels_\n"
   ]
  }
 ],
 "metadata": {
  "colab": {
   "provenance": []
  },
  "kernelspec": {
   "display_name": "Python 3 (ipykernel)",
   "language": "python",
   "name": "python3"
  },
  "language_info": {
   "codemirror_mode": {
    "name": "ipython",
    "version": 3
   },
   "file_extension": ".py",
   "mimetype": "text/x-python",
   "name": "python",
   "nbconvert_exporter": "python",
   "pygments_lexer": "ipython3",
   "version": "3.12.3"
  }
 },
 "nbformat": 4,
 "nbformat_minor": 1
}
